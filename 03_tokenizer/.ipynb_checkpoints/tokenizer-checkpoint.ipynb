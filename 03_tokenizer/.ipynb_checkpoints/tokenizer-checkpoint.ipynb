{
 "cells": [
  {
   "cell_type": "markdown",
   "id": "08759df7-1aa5-4808-9895-49a766c69bba",
   "metadata": {},
   "source": [
    "### 꼬꼬마 형태소 분석기 (konlpy.tag Kkma)"
   ]
  },
  {
   "cell_type": "code",
   "execution_count": 1,
   "id": "8d1edc62-ae61-46d9-b579-cfd2eb77dd21",
   "metadata": {},
   "outputs": [],
   "source": [
    "from konlpy.tag import Kkma"
   ]
  },
  {
   "cell_type": "markdown",
   "id": "672ec2d8-d304-4f55-a00b-b93b05c6b411",
   "metadata": {},
   "source": [
    "#### Kkma 함수설명\n",
    "- morphs<br>\n",
    "    : 입력한 문장은 형태소 단위로 토크나이징. 토크나이징된 형태소들은 리스트 형태로 반환\n",
    "\n",
    "- nouns<br>\n",
    "    : 입력한 문장은 품사가 명사인 토큰만 추출\n",
    "    \n",
    "- pos<br>\n",
    "    : 입력한 문장에서 형태소를 추출한 뒤 품사 태깅 한다. 추출된 형태소와 그 형태소의 품사가 튜플 형태로 묶여서 \n",
    "      리스트로 반환\n",
    "      \n",
    "- sentences<br>\n",
    "    : 인자로 입력한 여러 문장 분리하는 역할 해준다. 분리된 문장은 리스트 형태로 반환"
   ]
  },
  {
   "cell_type": "code",
   "execution_count": 5,
   "id": "a40eef6a-8f78-42d8-82d0-eff00b601fa7",
   "metadata": {},
   "outputs": [
    {
     "name": "stdout",
     "output_type": "stream",
     "text": [
      "['아버지', '가', '방', '에', '들어가', 'ㅂ니다', '.']\n",
      "[('아버지', 'NNG'), ('가', 'JKS'), ('방', 'NNG'), ('에', 'JKM'), ('들어가', 'VV'), ('ㅂ니다', 'EFN'), ('.', 'SF')]\n",
      "['아버지', '방']\n",
      "['오늘 날씨는 어 때요?', '내일은 덥다 던데.']\n"
     ]
    }
   ],
   "source": [
    "kkma = Kkma()\n",
    "\n",
    "text = \"아버지가 방에 들어갑니다.\"\n",
    "\n",
    "# 형태소 추출\n",
    "morphs = kkma.morphs(text)\n",
    "print(morphs)\n",
    "\n",
    "# 형태소와 품사 태그 추출\n",
    "pos = kkma.pos(text)\n",
    "print(pos)\n",
    "\n",
    "# 명사만 추출\n",
    "nouns = kkma.nouns(text)\n",
    "print(nouns)\n",
    "\n",
    "# 문장 분리\n",
    "sentences = \"오늘 날씨는 어때요? 내일은 덥다던데.\"\n",
    "s = kkma.sentences(sentences)\n",
    "print(s)"
   ]
  },
  {
   "cell_type": "markdown",
   "id": "370e578b-6595-4ada-ac59-eee781775a6f",
   "metadata": {},
   "source": [
    "#### kkma 품사 태그\n",
    "NNG    일반명사<BR>\n",
    "JKE    주격 조사<BR>\n",
    "JKM    부사격 조사<BR>\n",
    "VV     동사<BR>\n",
    "EFN    평서형 종결 어미<BR>\n",
    "SF     마침표, 물음표, 느낌표<BR>"
   ]
  },
  {
   "cell_type": "markdown",
   "id": "30e5113e-749c-426d-bbec-32ababc998d0",
   "metadata": {},
   "source": [
    "### 코모란 형태소 분석기 (Komoran)"
   ]
  },
  {
   "cell_type": "code",
   "execution_count": 6,
   "id": "9eb6c945-d980-42b0-b885-fc16ff0a6694",
   "metadata": {},
   "outputs": [],
   "source": [
    "from konlpy.tag import Komoran"
   ]
  },
  {
   "cell_type": "code",
   "execution_count": 8,
   "id": "af2957b9-2a7c-4394-809c-8d27d3b1ecec",
   "metadata": {},
   "outputs": [
    {
     "name": "stdout",
     "output_type": "stream",
     "text": [
      "['아버지', '가', '방', '에', '들어가', 'ㅂ니다', '.']\n",
      "[('아버지', 'NNG'), ('가', 'JKS'), ('방', 'NNG'), ('에', 'JKB'), ('들어가', 'VV'), ('ㅂ니다', 'EF'), ('.', 'SF')]\n",
      "['아버지', '방']\n"
     ]
    }
   ],
   "source": [
    "komoran = Komoran()\n",
    "\n",
    "text = \"아버지가 방에 들어갑니다.\"\n",
    "\n",
    "# 형태소 추출\n",
    "morphs = komoran.morphs(text)\n",
    "print(morphs)\n",
    "\n",
    "# 형태소와 품사 태그 추출\n",
    "pos = komoran.pos(text)\n",
    "print(pos)\n",
    "\n",
    "# 명사만 추출\n",
    "nouns = komoran.nouns(text)\n",
    "print(nouns)"
   ]
  },
  {
   "cell_type": "markdown",
   "id": "95025cbc-67cd-4f5b-a27f-765720e08d33",
   "metadata": {},
   "source": [
    "#### Komoran 품사 태그\n",
    "NNG    일반명사<BR>\n",
    "JKS    주격 조사<BR>\n",
    "JKB    부사격 조사<BR>\n",
    "VV     동사<BR>\n",
    "EF     종결 어미<BR>\n",
    "SF     마침표, 물음표, 느낌표<BR>"
   ]
  },
  {
   "cell_type": "markdown",
   "id": "3fcfb7f7-cad8-4259-b9e3-ad11e0590c56",
   "metadata": {},
   "source": [
    "### Okt 형태소 분석기"
   ]
  },
  {
   "cell_type": "code",
   "execution_count": 9,
   "id": "f1d254ad-2dcc-4ff5-990e-74d59594d827",
   "metadata": {},
   "outputs": [],
   "source": [
    "from konlpy.tag import Okt"
   ]
  },
  {
   "cell_type": "code",
   "execution_count": 10,
   "id": "787a1831-232a-46c5-b358-071dc2f5ecd1",
   "metadata": {},
   "outputs": [
    {
     "name": "stdout",
     "output_type": "stream",
     "text": [
      "['아버지', '가', '방', '에', '들어갑니다', '.']\n",
      "[('아버지', 'Noun'), ('가', 'Josa'), ('방', 'Noun'), ('에', 'Josa'), ('들어갑니다', 'Verb'), ('.', 'Punctuation')]\n",
      "[('아버지', 'Noun'), ('가', 'Josa'), ('방', 'Noun'), ('에', 'Josa'), ('들어갑니다', 'Verb'), ('.', 'Punctuation')]\n",
      "오늘, 날씨가 좋아요ㅋㅋ\n",
      "['오늘', '날씨']\n"
     ]
    }
   ],
   "source": [
    "okt = Okt()\n",
    "\n",
    "text = \"아버지가 방에 들어갑니다.\"\n",
    "\n",
    "# 형태소 추출\n",
    "morphs = okt.morphs(text)\n",
    "print(morphs)\n",
    "\n",
    "# 형태소와 품사 태그 추출\n",
    "pos = okt.pos(text)\n",
    "print(pos)\n",
    "\n",
    "# 명사만 추출\n",
    "nouns = okt.nouns(text)\n",
    "print(pos)\n",
    "\n",
    "# 정규화, 어구 추출\n",
    "text = \"오늘, 날씨가 좋아요ㅋㅋ\"\n",
    "print(okt.normalize(text))\n",
    "print(okt.phrases(text))"
   ]
  },
  {
   "cell_type": "markdown",
   "id": "1e967a35-bdb5-4bd1-9154-13a9c646636c",
   "metadata": {},
   "source": [
    "#### Komoran 품사 태그\n",
    "Noun    명사<br>\n",
    "Josa    조사<br>\n",
    "Verb    동사<br>\n",
    "Adjective    형용사<br>\n",
    "Punctuation    구두점<br>"
   ]
  },
  {
   "cell_type": "markdown",
   "id": "10bfdb16-3559-4254-a283-b129b5cd3f7d",
   "metadata": {},
   "source": [
    "### 미등록 단어 형태소 분석"
   ]
  },
  {
   "cell_type": "code",
   "execution_count": 11,
   "id": "a8875882-e6dd-4c2e-9947-f11f11e0e65e",
   "metadata": {},
   "outputs": [
    {
     "name": "stdout",
     "output_type": "stream",
     "text": [
      "[('우리', 'NP'), ('챗봇은', 'NA'), ('엔', 'NNB'), ('엘', 'NNP'), ('피', 'NNG'), ('를', 'JKO'), ('좋아하', 'VV'), ('아', 'EF'), ('.', 'SF')]\n"
     ]
    }
   ],
   "source": [
    "from konlpy.tag import Komoran\n",
    "\n",
    "komoran = Komoran()\n",
    "text = \"우리 챗봇은 엔엘피를 좋아해.\"\n",
    "pos = komoran.pos(text)\n",
    "print(pos)"
   ]
  },
  {
   "cell_type": "markdown",
   "id": "79a9b3b1-f949-4150-8176-862a9048cc52",
   "metadata": {},
   "source": [
    "### 사용자 단어 형태소 분석"
   ]
  },
  {
   "cell_type": "code",
   "execution_count": 12,
   "id": "6d79c155-a365-40c7-9e25-46714848c900",
   "metadata": {},
   "outputs": [
    {
     "name": "stdout",
     "output_type": "stream",
     "text": [
      "[('우리', 'NP'), ('챗봇은', 'NA'), ('엔엘피', 'NNG'), ('를', 'JKO'), ('좋아하', 'VV'), ('아', 'EF'), ('.', 'SF')]\n"
     ]
    }
   ],
   "source": [
    "from konlpy.tag import Komoran\n",
    "\n",
    "komoran = Komoran(userdic='./user_dic.tsv')\n",
    "text = \"우리 챗봇은 엔엘피를 좋아해.\"\n",
    "pos = komoran.pos(text)\n",
    "print(pos)"
   ]
  }
 ],
 "metadata": {
  "kernelspec": {
   "display_name": "Python 3 (ipykernel)",
   "language": "python",
   "name": "python3"
  },
  "language_info": {
   "codemirror_mode": {
    "name": "ipython",
    "version": 3
   },
   "file_extension": ".py",
   "mimetype": "text/x-python",
   "name": "python",
   "nbconvert_exporter": "python",
   "pygments_lexer": "ipython3",
   "version": "3.9.10"
  }
 },
 "nbformat": 4,
 "nbformat_minor": 5
}
